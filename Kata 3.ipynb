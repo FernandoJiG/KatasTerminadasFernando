{
 "cells": [
  {
   "cell_type": "markdown",
   "metadata": {},
   "source": [
    "# Kata 3\n",
    " Escribirás una lógica condicional que imprima una advertencia si un asteroide se acerca a la Tierra demasiado rápido. La velocidad del asteroide varía dependiendo de lo cerca que esté del sol, y cualquier velocidad superior a 25 kilómetros por segundo (km/s) merece una advertencia.\n",
    "\n",
    "Un asteroide se acerca, y viaja a una velocidad de 49 km/s."
   ]
  },
  {
   "cell_type": "code",
   "execution_count": 4,
   "metadata": {},
   "outputs": [
    {
     "name": "stdout",
     "output_type": "stream",
     "text": [
      "¡Advertencia!, un asteroide se acerca demasiado rapido a la tierra\n"
     ]
    }
   ],
   "source": [
    "velAst=49\n",
    "if velAst>25:\n",
    "    print(\"¡Advertencia!, un asteroide se acerca demasiado rapido a la tierra\")"
   ]
  },
  {
   "cell_type": "markdown",
   "metadata": {},
   "source": [
    "Si un asteroide entra en la atmósfera de la Tierra a una velocidad mayor o igual a 20 km/s, a veces produce un rayo de luz que se puede ver desde la Tierra. Escribe la lógica condicional que usa declaraciones if, else, y elif para alertar a las personas de todo el mundo que deben buscar un asteroide en el cielo. ¡Hay uno que se dirige a la tierra ahora a una velocidad de 19 km/s!"
   ]
  },
  {
   "cell_type": "code",
   "execution_count": 8,
   "metadata": {},
   "outputs": [
    {
     "name": "stdout",
     "output_type": "stream",
     "text": [
      "Sal, probablemente puedas ver un asteroide en el cielo\n"
     ]
    }
   ],
   "source": [
    "velAst=19\n",
    "if velAst>=20:\n",
    "    print(\"Sal y busca el asteroide en el cielo. :)\")\n",
    "elif velAst==19:\n",
    "    print(\"Sal, probablemente puedas ver un asteroide en el cielo\")\n",
    "else:\n",
    "    print(\"Hay un asteroide pero no se puede ver :(\")"
   ]
  },
  {
   "cell_type": "code",
   "execution_count": 12,
   "metadata": {},
   "outputs": [
    {
     "name": "stdout",
     "output_type": "stream",
     "text": [
      "Se aproxima un asteroide, sal a ver el espectaculo\n",
      "¡Warning!, El asteroide puede causar mucho daño\n"
     ]
    }
   ],
   "source": [
    "masAst=26\n",
    "velAst=29\n",
    "if velAst>=20:\n",
    "    print(\"Se aproxima un asteroide, sal a ver el espectaculo\")\n",
    "    if masAst>25 and masAst<1000:\n",
    "        print(\"¡Warning!, El asteroide puede causar mucho daño\")\n",
    "else:\n",
    "    print(\"Nada que ver\") \n"
   ]
  }
 ],
 "metadata": {
  "interpreter": {
   "hash": "ebe26744307c0e5105916a4327d767fe30a546f66893abd2637eb6d1866260b6"
  },
  "kernelspec": {
   "display_name": "Python 3.10.2 64-bit",
   "language": "python",
   "name": "python3"
  },
  "language_info": {
   "codemirror_mode": {
    "name": "ipython",
    "version": 3
   },
   "file_extension": ".py",
   "mimetype": "text/x-python",
   "name": "python",
   "nbconvert_exporter": "python",
   "pygments_lexer": "ipython3",
   "version": "3.10.2"
  },
  "orig_nbformat": 4
 },
 "nbformat": 4,
 "nbformat_minor": 2
}
