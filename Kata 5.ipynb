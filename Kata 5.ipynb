{
 "cells": [
  {
   "cell_type": "markdown",
   "metadata": {},
   "source": [
    "# Kata 5"
   ]
  },
  {
   "cell_type": "code",
   "execution_count": 10,
   "metadata": {},
   "outputs": [
    {
     "name": "stdout",
     "output_type": "stream",
     "text": [
      "628949330\n",
      "390577534\n"
     ]
    }
   ],
   "source": [
    "from math import ceil\n",
    "\n",
    "primer_planeta=149597870\n",
    "segundo_planeta=778547200\n",
    "dist_km=abs(primer_planeta-segundo_planeta)\n",
    "print(dist_km)\n",
    "dist_millas=ceil(dist_km*0.621)\n",
    "print(dist_millas)\n"
   ]
  },
  {
   "cell_type": "code",
   "execution_count": 5,
   "metadata": {},
   "outputs": [
    {
     "name": "stdout",
     "output_type": "stream",
     "text": [
      "1658\n"
     ]
    }
   ],
   "source": [
    "numero=input(\"introduce un número\") ##Input devuelve el numero en cadena de texto\n",
    "numeroInt=int(numero)\n",
    "print(numeroInt)\n"
   ]
  },
  {
   "cell_type": "code",
   "execution_count": 6,
   "metadata": {},
   "outputs": [
    {
     "name": "stdout",
     "output_type": "stream",
     "text": [
      "628949330\n",
      "390577534\n"
     ]
    }
   ],
   "source": [
    "from math import ceil\n",
    "\n",
    "primer_planeta=input(\"Introduce la distancia de tu primer planeta\")\n",
    "segundo_planeta=input(\"Introduce la distancia de tu segundo planeta\")\n",
    "primer_planeta=int(primer_planeta)\n",
    "segundo_planeta=int(segundo_planeta)\n",
    "dist_km=abs(primer_planeta-segundo_planeta)\n",
    "print(dist_km)\n",
    "dist_millas=ceil(dist_km*0.621)\n",
    "print(dist_millas)"
   ]
  }
 ],
 "metadata": {
  "interpreter": {
   "hash": "ebe26744307c0e5105916a4327d767fe30a546f66893abd2637eb6d1866260b6"
  },
  "kernelspec": {
   "display_name": "Python 3.10.2 64-bit",
   "language": "python",
   "name": "python3"
  },
  "language_info": {
   "codemirror_mode": {
    "name": "ipython",
    "version": 3
   },
   "file_extension": ".py",
   "mimetype": "text/x-python",
   "name": "python",
   "nbconvert_exporter": "python",
   "pygments_lexer": "ipython3",
   "version": "3.10.2"
  },
  "orig_nbformat": 4
 },
 "nbformat": 4,
 "nbformat_minor": 2
}
