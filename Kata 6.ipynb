{
 "cells": [
  {
   "cell_type": "markdown",
   "metadata": {},
   "source": [
    "# Kata 6"
   ]
  },
  {
   "cell_type": "code",
   "execution_count": 4,
   "metadata": {},
   "outputs": [
    {
     "name": "stdout",
     "output_type": "stream",
     "text": [
      "8\n",
      "\n",
      "Numero de planetas: 9\n",
      "Ultimo planeta agregado Pluton \n"
     ]
    }
   ],
   "source": [
    "planetas=[\"Mercurio\", \"Venus\",\"Tierra\",\"Marte\",\"Jupiter\",\"Saturno\",\"Urano\",\"Neptuno\"]\n",
    "print(len(planetas))\n",
    "\n",
    "planetas.append(\"Pluton\")\n",
    "print(f\"\\nNumero de planetas: {len(planetas)}\\nUltimo planeta agregado {planetas[-1]} \")"
   ]
  },
  {
   "cell_type": "code",
   "execution_count": 10,
   "metadata": {},
   "outputs": [
    {
     "name": "stdout",
     "output_type": "stream",
     "text": [
      "Estos son los planetas más cercanos al sol que Tierra\n",
      "['Mercurio', 'Venus']\n",
      "Estos son los planetas más lejanos al sol que Tierra\n",
      "['Tierra', 'Marte', 'Jupiter', 'Saturno', 'Urano', 'Neptuno']\n"
     ]
    }
   ],
   "source": [
    "planetas=[\"Mercurio\", \"Venus\",\"Tierra\",\"Marte\",\"Jupiter\",\"Saturno\",\"Urano\",\"Neptuno\"]\n",
    "planeta=input(\"Introduce el nombre de tu planeta usando la primera en mayuscula.\")\n",
    "indice=planetas.index(planeta)\n",
    "\n",
    "cercaSol=planetas[0:indice]\n",
    "print(f\"Estos son los planetas más cercanos al sol que {planeta}\")\n",
    "print(cercaSol)\n",
    "\n",
    "lejSol=planetas[indice+1:] ##Se le suma uno por que el planeta que nos pasó no debe entrar en el rango\n",
    "print(f\"Estos son los planetas más lejanos al sol que {planeta}\")\n",
    "print(lejSol)"
   ]
  }
 ],
 "metadata": {
  "interpreter": {
   "hash": "ebe26744307c0e5105916a4327d767fe30a546f66893abd2637eb6d1866260b6"
  },
  "kernelspec": {
   "display_name": "Python 3.10.2 64-bit",
   "language": "python",
   "name": "python3"
  },
  "language_info": {
   "codemirror_mode": {
    "name": "ipython",
    "version": 3
   },
   "file_extension": ".py",
   "mimetype": "text/x-python",
   "name": "python",
   "nbconvert_exporter": "python",
   "pygments_lexer": "ipython3",
   "version": "3.10.2"
  },
  "orig_nbformat": 4
 },
 "nbformat": 4,
 "nbformat_minor": 2
}
